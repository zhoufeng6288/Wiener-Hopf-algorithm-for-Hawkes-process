{
 "cells": [
  {
   "cell_type": "code",
   "execution_count": 1,
   "metadata": {
    "collapsed": true
   },
   "outputs": [],
   "source": [
    "from scipy.stats import expon\n",
    "from scipy.stats import norm\n",
    "from scipy.stats import uniform\n",
    "import numpy as np\n",
    "import matplotlib.pyplot as plt\n",
    "from scipy import optimize\n",
    "import scipy.integrate as integrate\n",
    "from numpy.polynomial import legendre"
   ]
  },
  {
   "cell_type": "code",
   "execution_count": 2,
   "metadata": {
    "collapsed": true
   },
   "outputs": [],
   "source": [
    "def intensity(t,history,parameters):    #left continue\n",
    "    mu=parameters[0]\n",
    "    alpha=parameters[1]\n",
    "    beta=parameters[2]\n",
    "    intensity=0\n",
    "    for i in range(len(history)):\n",
    "        if history[i]>=t:\n",
    "            break\n",
    "        intensity+=alpha*np.exp(-beta*(t-history[i]))\n",
    "    return mu+intensity"
   ]
  },
  {
   "cell_type": "code",
   "execution_count": 3,
   "metadata": {
    "collapsed": true
   },
   "outputs": [],
   "source": [
    "def hawkes_simulation_expo(T,parameters):\n",
    "    t=0\n",
    "    jump=0\n",
    "    points_homo=[]\n",
    "    points_hawkes=[]\n",
    "    while(t<T):\n",
    "        points_homo.append(t)\n",
    "        intensity_sup=intensity(t,points_hawkes,parameters)+jump\n",
    "        r=expon.rvs(scale=1/intensity_sup) #scale=1/lamda\n",
    "        t+=r\n",
    "        D=uniform.rvs(loc=0,scale=1)\n",
    "        if D*intensity_sup<=intensity(t,points_hawkes,parameters):\n",
    "            points_hawkes.append(t)\n",
    "            jump=parameters[1]\n",
    "        else:\n",
    "            jump=0\n",
    "    if points_hawkes[-1]>T:\n",
    "        del points_hawkes[-1]\n",
    "    del points_homo[0]\n",
    "    return points_hawkes"
   ]
  },
  {
   "cell_type": "code",
   "execution_count": 4,
   "metadata": {
    "collapsed": true
   },
   "outputs": [],
   "source": [
    "def negtiveloglikelyhood1(parameters, times, T): #times=timestamp t1-tn; T is timespan      fast:R(i)\n",
    "    times=np.array(times)\n",
    "    \n",
    "    mu=parameters[0]\n",
    "    alpha=parameters[1]\n",
    "    beta=parameters[2]\n",
    "    \n",
    "    timedifference=T-times #T-t0...T-t(n-1) \n",
    "    timeexponential=np.exp(-beta*timedifference)-1\n",
    "    secondsum=alpha/beta*sum(timeexponential)\n",
    "    \n",
    "    R=np.zeros((len(times),1))\n",
    "    for i in range(1,len(times)):\n",
    "        R[i]=np.exp(-beta*(times[i]-times[i-1]))*(1+R[i-1])\n",
    "    firstsum=sum(np.log(mu+alpha*R))  #left-continuous\n",
    "    \n",
    "    negtivelogl=-(firstsum-mu*T+secondsum)\n",
    "    return negtivelogl"
   ]
  },
  {
   "cell_type": "code",
   "execution_count": 5,
   "metadata": {
    "collapsed": true
   },
   "outputs": [],
   "source": [
    "T=1000"
   ]
  },
  {
   "cell_type": "code",
   "execution_count": 6,
   "metadata": {
    "collapsed": true
   },
   "outputs": [],
   "source": [
    "points_hawkes=hawkes_simulation_expo(T,[1,1,2])"
   ]
  },
  {
   "cell_type": "code",
   "execution_count": 7,
   "metadata": {},
   "outputs": [
    {
     "data": {
      "text/plain": [
       "1937"
      ]
     },
     "execution_count": 7,
     "metadata": {},
     "output_type": "execute_result"
    }
   ],
   "source": [
    "len(points_hawkes)"
   ]
  },
  {
   "cell_type": "code",
   "execution_count": 8,
   "metadata": {},
   "outputs": [
    {
     "name": "stdout",
     "output_type": "stream",
     "text": [
      "Optimization terminated successfully.    (Exit mode 0)\n",
      "            Current function value: 450.8291406585013\n",
      "            Iterations: 12\n",
      "            Function evaluations: 66\n",
      "            Gradient evaluations: 12\n"
     ]
    }
   ],
   "source": [
    "parameters=np.array([1.2,0.7,3])\n",
    "res=optimize.minimize(negtiveloglikelyhood1, parameters,args=(points_hawkes,T), method='SLSQP', bounds=((0.01,5),(0.01,5),(0.01,5)), options={'disp': True})"
   ]
  },
  {
   "cell_type": "code",
   "execution_count": 9,
   "metadata": {},
   "outputs": [
    {
     "data": {
      "text/plain": [
       "array([ 0.97456843,  0.9967184 ,  2.00516043])"
      ]
     },
     "execution_count": 9,
     "metadata": {},
     "output_type": "execute_result"
    }
   ],
   "source": [
    "res.x"
   ]
  },
  {
   "cell_type": "code",
   "execution_count": 10,
   "metadata": {
    "collapsed": true
   },
   "outputs": [],
   "source": [
    "Lamda=len(points_hawkes)/T # first order stats"
   ]
  },
  {
   "cell_type": "code",
   "execution_count": 11,
   "metadata": {},
   "outputs": [
    {
     "data": {
      "text/plain": [
       "1.937"
      ]
     },
     "execution_count": 11,
     "metadata": {},
     "output_type": "execute_result"
    }
   ],
   "source": [
    "Lamda"
   ]
  },
  {
   "cell_type": "code",
   "execution_count": 12,
   "metadata": {
    "collapsed": true
   },
   "outputs": [],
   "source": [
    "def hawkes_second_stats(points_hawkes, M, T_g, T): # divide T_g into M bins, discrete\n",
    "    g=np.zeros((1,M), dtype=float)[0]\n",
    "    delta_t=T_g/M\n",
    "    N=len(points_hawkes)\n",
    "    Lamda=N/T # first order stats\n",
    "    for m in range(M): # for m-th bin\n",
    "        rate=np.zeros((1,N))[0]  #every point has a contribution to m-th g, but some contribution is 0\n",
    "        div_num=0\n",
    "        for i in range(N):\n",
    "            if (T-points_hawkes[i])<(m+1)*delta_t:\n",
    "                break\n",
    "            else:\n",
    "                div_num+=1\n",
    "                for j in range(i+1,N):\n",
    "                    interval=points_hawkes[j]-points_hawkes[i]\n",
    "                    if interval<=(m+1)*delta_t and interval>m*delta_t:\n",
    "                        rate[i]+=1\n",
    "                    if interval>(m+1)*delta_t:\n",
    "                        break\n",
    "                rate[i]=rate[i]/delta_t\n",
    "        if div_num==0:\n",
    "            break\n",
    "        else:\n",
    "            g[m]=sum(rate)/div_num\n",
    "    return g-Lamda, np.linspace(delta_t/2,T_g-delta_t/2,M)"
   ]
  },
  {
   "cell_type": "code",
   "execution_count": 13,
   "metadata": {
    "collapsed": true
   },
   "outputs": [],
   "source": [
    "def hawkes_second_stats_theory(t,points_hawkes,T): # if we know parameters, the 2nd-order stats of hawkes\n",
    "    N=len(points_hawkes)\n",
    "    Lamda=N/T # first order stats\n",
    "    rate=np.zeros((1,N))[0]\n",
    "    div_num=0\n",
    "    for i in range(N):\n",
    "        if T-points_hawkes[i]<t:\n",
    "            break\n",
    "        else:\n",
    "            div_num+=1\n",
    "            rate[i]=intensity(points_hawkes[i]+t,points_hawkes,[1,1,2])\n",
    "    return sum(rate)/div_num-Lamda"
   ]
  },
  {
   "cell_type": "code",
   "execution_count": 17,
   "metadata": {},
   "outputs": [
    {
     "data": {
      "image/png": "[encoded data removed]",
      "text/plain": [
       "<matplotlib.figure.Figure at 0x27d3bc59cf8>"
      ]
     },
     "metadata": {},
     "output_type": "display_data"
    }
   ],
   "source": [
    "plt.figure(3,figsize=(7,6))\n",
    "axs=plt.subplot(111)\n",
    "x=np.linspace(0.1,6,600)\n",
    "axs.plot(x,[hawkes_second_stats_theory(x_i,points_hawkes,T) for x_i in x],'r-',label='continuous')\n",
    "plt.legend(fontsize=15)\n",
    "plt.show()"
   ]
  },
  {
   "cell_type": "code",
   "execution_count": 13,
   "metadata": {
    "collapsed": true
   },
   "outputs": [],
   "source": [
    "def hawkes_second_stats_conti_gauss(t,h,points_hawkes,T):   # gaussian kernel\n",
    "    N=len(points_hawkes)\n",
    "    Lamda=N/T\n",
    "    g_t_i=[]\n",
    "    for i in range(N):\n",
    "        if points_hawkes[i]+t>T-h:\n",
    "            break\n",
    "        else:\n",
    "            g_t=np.exp(-(((t-(points_hawkes[:i]+points_hawkes[i+1:]-points_hawkes[i]))/h)**2/2))\n",
    "            g_t_i.append(sum(g_t)/np.sqrt(2*np.pi)/h)\n",
    "    return np.average(g_t_i)-Lamda"
   ]
  },
  {
   "cell_type": "code",
   "execution_count": 14,
   "metadata": {
    "collapsed": true
   },
   "outputs": [],
   "source": [
    "def hawkes_second_stats_conti_expo(t,h,points_hawkes,T): # exponential kernel\n",
    "    N=len(points_hawkes)\n",
    "    Lamda=N/T\n",
    "    g_t_i=[]\n",
    "    for i in range(N):\n",
    "        if points_hawkes[i]+t>T-h:\n",
    "            break\n",
    "        else:\n",
    "            g_t=np.exp(-(np.abs(t-(points_hawkes[:i]+points_hawkes[i+1:]-points_hawkes[i]))/h))/2\n",
    "            g_t_i.append(sum(g_t)/h)\n",
    "    return np.average(g_t_i)-Lamda"
   ]
  },
  {
   "cell_type": "code",
   "execution_count": 15,
   "metadata": {
    "collapsed": true
   },
   "outputs": [],
   "source": [
    "def fun_01(t,h,y): # 0-1 kernel\n",
    "    y=np.array(y)\n",
    "    return 0.5*np.array([a and b for a, b in zip((y-t)<np.array([h]*len(y)), (y-t)>=np.array([-h]*len(y)))])"
   ]
  },
  {
   "cell_type": "code",
   "execution_count": 16,
   "metadata": {
    "collapsed": true
   },
   "outputs": [],
   "source": [
    "def hawkes_second_stats_conti_01(t,h,points_hawkes,T):  #0_1 kernel\n",
    "    N=len(points_hawkes)\n",
    "    Lamda=N/T\n",
    "    g_t_i=[]\n",
    "    for i in range(N):\n",
    "        if points_hawkes[i]+t>T-h:\n",
    "            break\n",
    "        else:\n",
    "            g_t=fun_01(t,h,points_hawkes[:i]+points_hawkes[i+1:]-points_hawkes[i])\n",
    "            g_t_i.append(sum(g_t)/h)\n",
    "    return np.average(g_t_i)-Lamda"
   ]
  },
  {
   "cell_type": "code",
   "execution_count": 13,
   "metadata": {},
   "outputs": [
    {
     "name": "stdout",
     "output_type": "stream",
     "text": [
      "Wall time: 532 ms\n"
     ]
    }
   ],
   "source": [
    "%%time\n",
    "g,x=hawkes_second_stats(points_hawkes,60,6,T)"
   ]
  },
  {
   "cell_type": "code",
   "execution_count": 21,
   "metadata": {
    "collapsed": true
   },
   "outputs": [],
   "source": [
    "g_01=[hawkes_second_stats_conti_01(x_i,0.05,points_hawkes,T) for x_i in x]"
   ]
  },
  {
   "cell_type": "code",
   "execution_count": 22,
   "metadata": {
    "collapsed": true
   },
   "outputs": [],
   "source": [
    "g_exp=[hawkes_second_stats_conti_expo(x_i,0.05,points_hawkes,T) for x_i in x]"
   ]
  },
  {
   "cell_type": "code",
   "execution_count": 23,
   "metadata": {
    "collapsed": true
   },
   "outputs": [],
   "source": [
    "g_gauss=[hawkes_second_stats_conti_gauss(x_i,0.05,points_hawkes,T) for x_i in x]"
   ]
  },
  {
   "cell_type": "code",
   "execution_count": 32,
   "metadata": {},
   "outputs": [
    {
     "data": {
      "image/png": "[encoded data removed]",
      "text/plain": [
       "<matplotlib.figure.Figure at 0x18d1a2d6a20>"
      ]
     },
     "metadata": {},
     "output_type": "display_data"
    }
   ],
   "source": [
    "plt.figure(3,figsize=(7,6))\n",
    "axs=plt.subplot(111)\n",
    "# axs.plot(x,g,'bo',label='bin')\n",
    "# axs.plot(x,g_01,'g-',label='0-1')\n",
    "axs.plot(x,g_exp,'-',label='exponential')\n",
    "axs.plot(x,g_gauss,'-',label='gaussian')\n",
    "# axs.plot(x,[hawkes_second_stats_conti_01(x_i,0.05,points_hawkes,T) for x_i in x],'r-',label='continuous')\n",
    "# axs.plot(x,np.exp(-x),'m-',label='groudtruth')\n",
    "plt.legend(fontsize=15)\n",
    "plt.show()"
   ]
  },
  {
   "cell_type": "code",
   "execution_count": 14,
   "metadata": {
    "collapsed": true
   },
   "outputs": [],
   "source": [
    "def primitive_g(t,g,range_g): # -infinity to t\n",
    "    delta_t=range_g/len(g)\n",
    "    num_bin=t/delta_t\n",
    "    if num_bin<len(g):\n",
    "        integral=sum(g[:int(num_bin)])*delta_t+g[int(num_bin)]*delta_t*(num_bin-int(num_bin))\n",
    "    else:\n",
    "        integral=sum(g)*delta_t\n",
    "    return integral+sum(g)*delta_t"
   ]
  },
  {
   "cell_type": "code",
   "execution_count": 15,
   "metadata": {
    "collapsed": true
   },
   "outputs": [],
   "source": [
    "def gq_points_weights(a,b,Q):\n",
    "    p,w=np.polynomial.legendre.leggauss(Q)\n",
    "    c = np.array([0]*Q + [1])\n",
    "    p_new=(a+b+(b-a)*p)/2\n",
    "    w_new=(b-a)/(legendre.legval(p, legendre.legder(c))**2*(1-p**2))\n",
    "    return p_new,w_new"
   ]
  },
  {
   "cell_type": "code",
   "execution_count": 16,
   "metadata": {
    "collapsed": true
   },
   "outputs": [],
   "source": [
    "def phi(t,g,Q,range_g): \n",
    "    delta_t=range_g/len(g) \n",
    "    p,w=gq_points_weights(0,range_g,Q)  # (0,infininty) replaced by (0,range_g)\n",
    "    g_ti=np.zeros((Q,Q))\n",
    "    G_ti=np.zeros((1,Q))[0]\n",
    "    for i in range(Q):\n",
    "        G_ti[i]=primitive_g(p[i],g,range_g)\n",
    "        for j in range(i,Q):\n",
    "            if i==j:\n",
    "                g_ti[i][i]=g[int(p[i]/delta_t)]\n",
    "            else:\n",
    "                g_ti[i][j]=g[int((p[j]-p[i])/delta_t)]\n",
    "                g_ti[j][i]=g_ti[i][j]\n",
    "    \n",
    "    a = np.zeros((Q,Q))\n",
    "    b = np.zeros((1,Q))[0]\n",
    "    for i in range(Q):\n",
    "        b[i]=g_ti[i][i]\n",
    "        for j in range(Q):\n",
    "            if i==j:\n",
    "                a[i][i]=1+G_ti[i]-sum(w*g_ti[i])+w[i]*g_ti[i][i]  #diagonal\n",
    "            else:\n",
    "                a[i][j]=w[j]*g_ti[i][j]    \n",
    "    phi_ti = np.linalg.solve(a,b)\n",
    "\n",
    "    g_t=g[int(t/delta_t)]\n",
    "    G_t=primitive_g(t,g,range_g)\n",
    "    g_t_ti=np.zeros((1,Q))[0]\n",
    "    for i in range(Q):\n",
    "        g_t_ti[i]=g[int((t-p[i])/delta_t)]\n",
    "    phi_t=(g_t-sum(w*phi_ti*g_t_ti))/(1+G_t-sum(w*g_t_ti))\n",
    "    return phi_t"
   ]
  },
  {
   "cell_type": "code",
   "execution_count": 38,
   "metadata": {
    "scrolled": false
   },
   "outputs": [
    {
     "data": {
      "image/png": "[encoded data removed]",
      "text/plain": [
       "<matplotlib.figure.Figure at 0x18d1b38a9e8>"
      ]
     },
     "metadata": {},
     "output_type": "display_data"
    }
   ],
   "source": [
    "plt.figure(3,figsize=(7,6))\n",
    "axs=plt.subplot(111)\n",
    "axs.plot(x,[phi(xi,g,100,6) for xi in x],'bo',label='nonparametric')\n",
    "axs.plot(x,[phi(xi,g_gauss,100,6) for xi in x],'-')\n",
    "axs.plot(x,1*np.exp(-2*x),'r-',label='groud truth')\n",
    "plt.legend(fontsize=15)\n",
    "plt.show()"
   ]
  },
  {
   "cell_type": "code",
   "execution_count": 25,
   "metadata": {
    "collapsed": true
   },
   "outputs": [],
   "source": [
    "def phi_parameter(h,Q,range_g):# default range_g*10 points\n",
    "    x=np.linspace(0.1/2,range_g-0.1/2,range_g*10)\n",
    "    g_gauss=[hawkes_second_stats_conti_gauss(x_i,h,points_hawkes,T) for x_i in x]\n",
    "    phi_result=[phi(xi,g_gauss,Q,range_g) for xi in x]\n",
    "    \n",
    "#     mse=sum((np.array(phi_result)-1*np.exp(-2*x))**2)/(range_g*10)\n",
    "    \n",
    "#     plt.figure(3,figsize=(7,6))\n",
    "#     axs=plt.subplot(111)\n",
    "#     axs.plot(x,phi_result,'-',label='nonparametric')\n",
    "#     axs.plot(x,1*np.exp(-2*x),'r-',label='groud truth')\n",
    "#     plt.legend(fontsize=15)\n",
    "#     plt.show()\n",
    "#     return mse\n",
    "    return phi_result"
   ]
  },
  {
   "cell_type": "code",
   "execution_count": 46,
   "metadata": {},
   "outputs": [
    {
     "data": {
      "image/png": "[encoded data removed]",
      "text/plain": [
       "<matplotlib.figure.Figure at 0x18d1a2b35f8>"
      ]
     },
     "metadata": {},
     "output_type": "display_data"
    }
   ],
   "source": [
    "plt.figure(3,figsize=(7,6))\n",
    "axs=plt.subplot(111)\n",
    "axs.plot(np.linspace(0.1,2,20),[phi_parameter(h,100,6) for h in np.linspace(0.1,2,20)],label='MSE w.r.t h')\n",
    "plt.legend(fontsize=15)\n",
    "plt.show()"
   ]
  },
  {
   "cell_type": "code",
   "execution_count": 18,
   "metadata": {},
   "outputs": [
    {
     "name": "stdout",
     "output_type": "stream",
     "text": [
      "Wall time: 40.8 s\n"
     ]
    }
   ],
   "source": [
    "%%time\n",
    "phi_mh=phi_parameter(0.7,100,6)"
   ]
  },
  {
   "cell_type": "code",
   "execution_count": 24,
   "metadata": {},
   "outputs": [
    {
     "data": {
      "image/png": "[encoded data removed]",
      "text/plain": [
       "<Figure size 504x432 with 1 Axes>"
      ]
     },
     "metadata": {},
     "output_type": "display_data"
    }
   ],
   "source": [
    "plt.figure(3,figsize=(7,6))\n",
    "axs=plt.subplot(111)\n",
    "axs.plot(np.linspace(0.1/2,6-0.1/2,6*10),phi_mh,label='WH')\n",
    "axs.plot(np.linspace(0.1/2,6-0.1/2,6*10),1*np.exp(-2*np.linspace(0.1/2,6-0.1/2,6*10)),label='Ground Truth')\n",
    "plt.legend(fontsize=15)\n",
    "plt.show()"
   ]
  },
  {
   "cell_type": "code",
   "execution_count": null,
   "metadata": {
    "collapsed": true
   },
   "outputs": [],
   "source": []
  }
 ],
 "metadata": {
  "kernelspec": {
   "display_name": "Python 3",
   "language": "python",
   "name": "python3"
  },
  "language_info": {
   "codemirror_mode": {
    "name": "ipython",
    "version": 3
   },
   "file_extension": ".py",
   "mimetype": "text/x-python",
   "name": "python",
   "nbconvert_exporter": "python",
   "pygments_lexer": "ipython3",
   "version": "3.6.6"
  }
 },
 "nbformat": 4,
 "nbformat_minor": 2
}
